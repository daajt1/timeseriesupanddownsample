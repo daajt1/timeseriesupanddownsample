{
  "nbformat": 4,
  "nbformat_minor": 0,
  "metadata": {
    "colab": {
      "name": "Timeseries downsampling/upsampling forecasting.ipynb",
      "provenance": []
    },
    "kernelspec": {
      "name": "python3",
      "display_name": "Python 3"
    }
  },
  "cells": [
    {
      "cell_type": "code",
      "metadata": {
        "id": "sG8SN9CevNei"
      },
      "source": [
        ""
      ],
      "execution_count": null,
      "outputs": []
    },
    {
      "cell_type": "code",
      "metadata": {
        "colab": {
          "resources": {
            "http://localhost:8080/nbextensions/google.colab/files.js": {
              "data": "Ly8gQ29weXJpZ2h0IDIwMTcgR29vZ2xlIExMQwovLwovLyBMaWNlbnNlZCB1bmRlciB0aGUgQXBhY2hlIExpY2Vuc2UsIFZlcnNpb24gMi4wICh0aGUgIkxpY2Vuc2UiKTsKLy8geW91IG1heSBub3QgdXNlIHRoaXMgZmlsZSBleGNlcHQgaW4gY29tcGxpYW5jZSB3aXRoIHRoZSBMaWNlbnNlLgovLyBZb3UgbWF5IG9idGFpbiBhIGNvcHkgb2YgdGhlIExpY2Vuc2UgYXQKLy8KLy8gICAgICBodHRwOi8vd3d3LmFwYWNoZS5vcmcvbGljZW5zZXMvTElDRU5TRS0yLjAKLy8KLy8gVW5sZXNzIHJlcXVpcmVkIGJ5IGFwcGxpY2FibGUgbGF3IG9yIGFncmVlZCB0byBpbiB3cml0aW5nLCBzb2Z0d2FyZQovLyBkaXN0cmlidXRlZCB1bmRlciB0aGUgTGljZW5zZSBpcyBkaXN0cmlidXRlZCBvbiBhbiAiQVMgSVMiIEJBU0lTLAovLyBXSVRIT1VUIFdBUlJBTlRJRVMgT1IgQ09ORElUSU9OUyBPRiBBTlkgS0lORCwgZWl0aGVyIGV4cHJlc3Mgb3IgaW1wbGllZC4KLy8gU2VlIHRoZSBMaWNlbnNlIGZvciB0aGUgc3BlY2lmaWMgbGFuZ3VhZ2UgZ292ZXJuaW5nIHBlcm1pc3Npb25zIGFuZAovLyBsaW1pdGF0aW9ucyB1bmRlciB0aGUgTGljZW5zZS4KCi8qKgogKiBAZmlsZW92ZXJ2aWV3IEhlbHBlcnMgZm9yIGdvb2dsZS5jb2xhYiBQeXRob24gbW9kdWxlLgogKi8KKGZ1bmN0aW9uKHNjb3BlKSB7CmZ1bmN0aW9uIHNwYW4odGV4dCwgc3R5bGVBdHRyaWJ1dGVzID0ge30pIHsKICBjb25zdCBlbGVtZW50ID0gZG9jdW1lbnQuY3JlYXRlRWxlbWVudCgnc3BhbicpOwogIGVsZW1lbnQudGV4dENvbnRlbnQgPSB0ZXh0OwogIGZvciAoY29uc3Qga2V5IG9mIE9iamVjdC5rZXlzKHN0eWxlQXR0cmlidXRlcykpIHsKICAgIGVsZW1lbnQuc3R5bGVba2V5XSA9IHN0eWxlQXR0cmlidXRlc1trZXldOwogIH0KICByZXR1cm4gZWxlbWVudDsKfQoKLy8gTWF4IG51bWJlciBvZiBieXRlcyB3aGljaCB3aWxsIGJlIHVwbG9hZGVkIGF0IGEgdGltZS4KY29uc3QgTUFYX1BBWUxPQURfU0laRSA9IDEwMCAqIDEwMjQ7CgpmdW5jdGlvbiBfdXBsb2FkRmlsZXMoaW5wdXRJZCwgb3V0cHV0SWQpIHsKICBjb25zdCBzdGVwcyA9IHVwbG9hZEZpbGVzU3RlcChpbnB1dElkLCBvdXRwdXRJZCk7CiAgY29uc3Qgb3V0cHV0RWxlbWVudCA9IGRvY3VtZW50LmdldEVsZW1lbnRCeUlkKG91dHB1dElkKTsKICAvLyBDYWNoZSBzdGVwcyBvbiB0aGUgb3V0cHV0RWxlbWVudCB0byBtYWtlIGl0IGF2YWlsYWJsZSBmb3IgdGhlIG5leHQgY2FsbAogIC8vIHRvIHVwbG9hZEZpbGVzQ29udGludWUgZnJvbSBQeXRob24uCiAgb3V0cHV0RWxlbWVudC5zdGVwcyA9IHN0ZXBzOwoKICByZXR1cm4gX3VwbG9hZEZpbGVzQ29udGludWUob3V0cHV0SWQpOwp9CgovLyBUaGlzIGlzIHJvdWdobHkgYW4gYXN5bmMgZ2VuZXJhdG9yIChub3Qgc3VwcG9ydGVkIGluIHRoZSBicm93c2VyIHlldCksCi8vIHdoZXJlIHRoZXJlIGFyZSBtdWx0aXBsZSBhc3luY2hyb25vdXMgc3RlcHMgYW5kIHRoZSBQeXRob24gc2lkZSBpcyBnb2luZwovLyB0byBwb2xsIGZvciBjb21wbGV0aW9uIG9mIGVhY2ggc3RlcC4KLy8gVGhpcyB1c2VzIGEgUHJvbWlzZSB0byBibG9jayB0aGUgcHl0aG9uIHNpZGUgb24gY29tcGxldGlvbiBvZiBlYWNoIHN0ZXAsCi8vIHRoZW4gcGFzc2VzIHRoZSByZXN1bHQgb2YgdGhlIHByZXZpb3VzIHN0ZXAgYXMgdGhlIGlucHV0IHRvIHRoZSBuZXh0IHN0ZXAuCmZ1bmN0aW9uIF91cGxvYWRGaWxlc0NvbnRpbnVlKG91dHB1dElkKSB7CiAgY29uc3Qgb3V0cHV0RWxlbWVudCA9IGRvY3VtZW50LmdldEVsZW1lbnRCeUlkKG91dHB1dElkKTsKICBjb25zdCBzdGVwcyA9IG91dHB1dEVsZW1lbnQuc3RlcHM7CgogIGNvbnN0IG5leHQgPSBzdGVwcy5uZXh0KG91dHB1dEVsZW1lbnQubGFzdFByb21pc2VWYWx1ZSk7CiAgcmV0dXJuIFByb21pc2UucmVzb2x2ZShuZXh0LnZhbHVlLnByb21pc2UpLnRoZW4oKHZhbHVlKSA9PiB7CiAgICAvLyBDYWNoZSB0aGUgbGFzdCBwcm9taXNlIHZhbHVlIHRvIG1ha2UgaXQgYXZhaWxhYmxlIHRvIHRoZSBuZXh0CiAgICAvLyBzdGVwIG9mIHRoZSBnZW5lcmF0b3IuCiAgICBvdXRwdXRFbGVtZW50Lmxhc3RQcm9taXNlVmFsdWUgPSB2YWx1ZTsKICAgIHJldHVybiBuZXh0LnZhbHVlLnJlc3BvbnNlOwogIH0pOwp9CgovKioKICogR2VuZXJhdG9yIGZ1bmN0aW9uIHdoaWNoIGlzIGNhbGxlZCBiZXR3ZWVuIGVhY2ggYXN5bmMgc3RlcCBvZiB0aGUgdXBsb2FkCiAqIHByb2Nlc3MuCiAqIEBwYXJhbSB7c3RyaW5nfSBpbnB1dElkIEVsZW1lbnQgSUQgb2YgdGhlIGlucHV0IGZpbGUgcGlja2VyIGVsZW1lbnQuCiAqIEBwYXJhbSB7c3RyaW5nfSBvdXRwdXRJZCBFbGVtZW50IElEIG9mIHRoZSBvdXRwdXQgZGlzcGxheS4KICogQHJldHVybiB7IUl0ZXJhYmxlPCFPYmplY3Q+fSBJdGVyYWJsZSBvZiBuZXh0IHN0ZXBzLgogKi8KZnVuY3Rpb24qIHVwbG9hZEZpbGVzU3RlcChpbnB1dElkLCBvdXRwdXRJZCkgewogIGNvbnN0IGlucHV0RWxlbWVudCA9IGRvY3VtZW50LmdldEVsZW1lbnRCeUlkKGlucHV0SWQpOwogIGlucHV0RWxlbWVudC5kaXNhYmxlZCA9IGZhbHNlOwoKICBjb25zdCBvdXRwdXRFbGVtZW50ID0gZG9jdW1lbnQuZ2V0RWxlbWVudEJ5SWQob3V0cHV0SWQpOwogIG91dHB1dEVsZW1lbnQuaW5uZXJIVE1MID0gJyc7CgogIGNvbnN0IHBpY2tlZFByb21pc2UgPSBuZXcgUHJvbWlzZSgocmVzb2x2ZSkgPT4gewogICAgaW5wdXRFbGVtZW50LmFkZEV2ZW50TGlzdGVuZXIoJ2NoYW5nZScsIChlKSA9PiB7CiAgICAgIHJlc29sdmUoZS50YXJnZXQuZmlsZXMpOwogICAgfSk7CiAgfSk7CgogIGNvbnN0IGNhbmNlbCA9IGRvY3VtZW50LmNyZWF0ZUVsZW1lbnQoJ2J1dHRvbicpOwogIGlucHV0RWxlbWVudC5wYXJlbnRFbGVtZW50LmFwcGVuZENoaWxkKGNhbmNlbCk7CiAgY2FuY2VsLnRleHRDb250ZW50ID0gJ0NhbmNlbCB1cGxvYWQnOwogIGNvbnN0IGNhbmNlbFByb21pc2UgPSBuZXcgUHJvbWlzZSgocmVzb2x2ZSkgPT4gewogICAgY2FuY2VsLm9uY2xpY2sgPSAoKSA9PiB7CiAgICAgIHJlc29sdmUobnVsbCk7CiAgICB9OwogIH0pOwoKICAvLyBXYWl0IGZvciB0aGUgdXNlciB0byBwaWNrIHRoZSBmaWxlcy4KICBjb25zdCBmaWxlcyA9IHlpZWxkIHsKICAgIHByb21pc2U6IFByb21pc2UucmFjZShbcGlja2VkUHJvbWlzZSwgY2FuY2VsUHJvbWlzZV0pLAogICAgcmVzcG9uc2U6IHsKICAgICAgYWN0aW9uOiAnc3RhcnRpbmcnLAogICAgfQogIH07CgogIGNhbmNlbC5yZW1vdmUoKTsKCiAgLy8gRGlzYWJsZSB0aGUgaW5wdXQgZWxlbWVudCBzaW5jZSBmdXJ0aGVyIHBpY2tzIGFyZSBub3QgYWxsb3dlZC4KICBpbnB1dEVsZW1lbnQuZGlzYWJsZWQgPSB0cnVlOwoKICBpZiAoIWZpbGVzKSB7CiAgICByZXR1cm4gewogICAgICByZXNwb25zZTogewogICAgICAgIGFjdGlvbjogJ2NvbXBsZXRlJywKICAgICAgfQogICAgfTsKICB9CgogIGZvciAoY29uc3QgZmlsZSBvZiBmaWxlcykgewogICAgY29uc3QgbGkgPSBkb2N1bWVudC5jcmVhdGVFbGVtZW50KCdsaScpOwogICAgbGkuYXBwZW5kKHNwYW4oZmlsZS5uYW1lLCB7Zm9udFdlaWdodDogJ2JvbGQnfSkpOwogICAgbGkuYXBwZW5kKHNwYW4oCiAgICAgICAgYCgke2ZpbGUudHlwZSB8fCAnbi9hJ30pIC0gJHtmaWxlLnNpemV9IGJ5dGVzLCBgICsKICAgICAgICBgbGFzdCBtb2RpZmllZDogJHsKICAgICAgICAgICAgZmlsZS5sYXN0TW9kaWZpZWREYXRlID8gZmlsZS5sYXN0TW9kaWZpZWREYXRlLnRvTG9jYWxlRGF0ZVN0cmluZygpIDoKICAgICAgICAgICAgICAgICAgICAgICAgICAgICAgICAgICAgJ24vYSd9IC0gYCkpOwogICAgY29uc3QgcGVyY2VudCA9IHNwYW4oJzAlIGRvbmUnKTsKICAgIGxpLmFwcGVuZENoaWxkKHBlcmNlbnQpOwoKICAgIG91dHB1dEVsZW1lbnQuYXBwZW5kQ2hpbGQobGkpOwoKICAgIGNvbnN0IGZpbGVEYXRhUHJvbWlzZSA9IG5ldyBQcm9taXNlKChyZXNvbHZlKSA9PiB7CiAgICAgIGNvbnN0IHJlYWRlciA9IG5ldyBGaWxlUmVhZGVyKCk7CiAgICAgIHJlYWRlci5vbmxvYWQgPSAoZSkgPT4gewogICAgICAgIHJlc29sdmUoZS50YXJnZXQucmVzdWx0KTsKICAgICAgfTsKICAgICAgcmVhZGVyLnJlYWRBc0FycmF5QnVmZmVyKGZpbGUpOwogICAgfSk7CiAgICAvLyBXYWl0IGZvciB0aGUgZGF0YSB0byBiZSByZWFkeS4KICAgIGxldCBmaWxlRGF0YSA9IHlpZWxkIHsKICAgICAgcHJvbWlzZTogZmlsZURhdGFQcm9taXNlLAogICAgICByZXNwb25zZTogewogICAgICAgIGFjdGlvbjogJ2NvbnRpbnVlJywKICAgICAgfQogICAgfTsKCiAgICAvLyBVc2UgYSBjaHVua2VkIHNlbmRpbmcgdG8gYXZvaWQgbWVzc2FnZSBzaXplIGxpbWl0cy4gU2VlIGIvNjIxMTU2NjAuCiAgICBsZXQgcG9zaXRpb24gPSAwOwogICAgd2hpbGUgKHBvc2l0aW9uIDwgZmlsZURhdGEuYnl0ZUxlbmd0aCkgewogICAgICBjb25zdCBsZW5ndGggPSBNYXRoLm1pbihmaWxlRGF0YS5ieXRlTGVuZ3RoIC0gcG9zaXRpb24sIE1BWF9QQVlMT0FEX1NJWkUpOwogICAgICBjb25zdCBjaHVuayA9IG5ldyBVaW50OEFycmF5KGZpbGVEYXRhLCBwb3NpdGlvbiwgbGVuZ3RoKTsKICAgICAgcG9zaXRpb24gKz0gbGVuZ3RoOwoKICAgICAgY29uc3QgYmFzZTY0ID0gYnRvYShTdHJpbmcuZnJvbUNoYXJDb2RlLmFwcGx5KG51bGwsIGNodW5rKSk7CiAgICAgIHlpZWxkIHsKICAgICAgICByZXNwb25zZTogewogICAgICAgICAgYWN0aW9uOiAnYXBwZW5kJywKICAgICAgICAgIGZpbGU6IGZpbGUubmFtZSwKICAgICAgICAgIGRhdGE6IGJhc2U2NCwKICAgICAgICB9LAogICAgICB9OwogICAgICBwZXJjZW50LnRleHRDb250ZW50ID0KICAgICAgICAgIGAke01hdGgucm91bmQoKHBvc2l0aW9uIC8gZmlsZURhdGEuYnl0ZUxlbmd0aCkgKiAxMDApfSUgZG9uZWA7CiAgICB9CiAgfQoKICAvLyBBbGwgZG9uZS4KICB5aWVsZCB7CiAgICByZXNwb25zZTogewogICAgICBhY3Rpb246ICdjb21wbGV0ZScsCiAgICB9CiAgfTsKfQoKc2NvcGUuZ29vZ2xlID0gc2NvcGUuZ29vZ2xlIHx8IHt9OwpzY29wZS5nb29nbGUuY29sYWIgPSBzY29wZS5nb29nbGUuY29sYWIgfHwge307CnNjb3BlLmdvb2dsZS5jb2xhYi5fZmlsZXMgPSB7CiAgX3VwbG9hZEZpbGVzLAogIF91cGxvYWRGaWxlc0NvbnRpbnVlLAp9Owp9KShzZWxmKTsK",
              "ok": true,
              "headers": [
                [
                  "content-type",
                  "application/javascript"
                ]
              ],
              "status": 200,
              "status_text": ""
            }
          },
          "base_uri": "https://localhost:8080/",
          "height": 111
        },
        "id": "al1xS8S4CwvA",
        "outputId": "ce16f858-124f-4d9e-d3e2-817a954b7479"
      },
      "source": [
        "\n",
        "from google.colab import files\n",
        " \n",
        "files.upload()  \n",
        "\n"
      ],
      "execution_count": 1,
      "outputs": [
        {
          "output_type": "display_data",
          "data": {
            "text/html": [
              "\n",
              "     <input type=\"file\" id=\"files-9d4bb75c-377e-4231-b106-a96b407e3e80\" name=\"files[]\" multiple disabled\n",
              "        style=\"border:none\" />\n",
              "     <output id=\"result-9d4bb75c-377e-4231-b106-a96b407e3e80\">\n",
              "      Upload widget is only available when the cell has been executed in the\n",
              "      current browser session. Please rerun this cell to enable.\n",
              "      </output>\n",
              "      <script src=\"/nbextensions/google.colab/files.js\"></script> "
            ],
            "text/plain": [
              "<IPython.core.display.HTML object>"
            ]
          },
          "metadata": {
            "tags": []
          }
        },
        {
          "output_type": "stream",
          "text": [
            "Saving us-airlines-monthly-aircraft-miles-flown.csv to us-airlines-monthly-aircraft-miles-flown.csv\n"
          ],
          "name": "stdout"
        },
        {
          "output_type": "execute_result",
          "data": {
            "text/plain": [
              "{'us-airlines-monthly-aircraft-miles-flown.csv': b'Month,MilesMM\\r\\n1963-01,6827\\r\\n1963-02,6178\\r\\n1963-03,7084\\r\\n1963-04,8162\\r\\n1963-05,8462\\r\\n1963-06,9644\\r\\n1963-07,10466\\r\\n1963-08,10748\\r\\n1963-09,9963\\r\\n1963-10,8194\\r\\n1963-11,6848\\r\\n1963-12,7027\\r\\n1964-01,7269\\r\\n1964-02,6775\\r\\n1964-03,7819\\r\\n1964-04,8371\\r\\n1964-05,9069\\r\\n1964-06,10248\\r\\n1964-07,11030\\r\\n1964-08,10882\\r\\n1964-09,10333\\r\\n1964-10,9109\\r\\n1964-11,7685\\r\\n1964-12,7602\\r\\n1965-01,8350\\r\\n1965-02,7829\\r\\n1965-03,8829\\r\\n1965-04,9948\\r\\n1965-05,10638\\r\\n1965-06,11253\\r\\n1965-07,11424\\r\\n1965-08,11391\\r\\n1965-09,10665\\r\\n1965-10,9396\\r\\n1965-11,7775\\r\\n1965-12,7933\\r\\n1966-01,8186\\r\\n1966-02,7444\\r\\n1966-03,8484\\r\\n1966-04,9864\\r\\n1966-05,10252\\r\\n1966-06,12282\\r\\n1966-07,11637\\r\\n1966-08,11577\\r\\n1966-09,12417\\r\\n1966-10,9637\\r\\n1966-11,8094\\r\\n1966-12,9280\\r\\n1967-01,8334\\r\\n1967-02,7899\\r\\n1967-03,9994\\r\\n1967-04,10078\\r\\n1967-05,10801\\r\\n1967-06,12950\\r\\n1967-07,12222\\r\\n1967-08,12246\\r\\n1967-09,13281\\r\\n1967-10,10366\\r\\n1967-11,8730\\r\\n1967-12,9614\\r\\n1968-01,8639\\r\\n1968-02,8772\\r\\n1968-03,10894\\r\\n1968-04,10455\\r\\n1968-05,11179\\r\\n1968-06,10588\\r\\n1968-07,10794\\r\\n1968-08,12770\\r\\n1968-09,13812\\r\\n1968-10,10857\\r\\n1968-11,9290\\r\\n1968-12,10925\\r\\n1969-01,9491\\r\\n1969-02,8919\\r\\n1969-03,11607\\r\\n1969-04,8852\\r\\n1969-05,12537\\r\\n1969-06,14759\\r\\n1969-07,13667\\r\\n1969-08,13731\\r\\n1969-09,15110\\r\\n1969-10,12185\\r\\n1969-11,10645\\r\\n1969-12,12161\\r\\n1970-01,10840\\r\\n1970-02,10436\\r\\n1970-03,13589\\r\\n1970-04,13402\\r\\n1970-05,13103\\r\\n1970-06,14933\\r\\n1970-07,14147\\r\\n1970-08,14057\\r\\n1970-09,16234\\r\\n1970-10,12389\\r\\n1970-11,11595\\r\\n1970-12,12772\\r\\n'}"
            ]
          },
          "metadata": {
            "tags": []
          },
          "execution_count": 1
        }
      ]
    },
    {
      "cell_type": "markdown",
      "metadata": {
        "id": "F3YpYbMNyHDl"
      },
      "source": [
        "##Timeseries downsampling and upsampling data and forecasting with python\n",
        "\n",
        "##daajt1"
      ]
    },
    {
      "cell_type": "code",
      "metadata": {
        "id": "jdZuBU8xvXyN"
      },
      "source": [
        "import pandas as pd\n",
        "\n",
        "\n",
        "\n",
        "myles = pd.read_csv(\"us-airlines-monthly-aircraft-miles-flown.csv\" ,header=0,parse_dates=[0])"
      ],
      "execution_count": 7,
      "outputs": []
    },
    {
      "cell_type": "code",
      "metadata": {
        "colab": {
          "base_uri": "https://localhost:8080/",
          "height": 204
        },
        "id": "_KUm4oBjwJ8N",
        "outputId": "a4360b3a-f420-4d34-f737-2b14a263eada"
      },
      "source": [
        "myles.head()"
      ],
      "execution_count": 8,
      "outputs": [
        {
          "output_type": "execute_result",
          "data": {
            "text/html": [
              "<div>\n",
              "<style scoped>\n",
              "    .dataframe tbody tr th:only-of-type {\n",
              "        vertical-align: middle;\n",
              "    }\n",
              "\n",
              "    .dataframe tbody tr th {\n",
              "        vertical-align: top;\n",
              "    }\n",
              "\n",
              "    .dataframe thead th {\n",
              "        text-align: right;\n",
              "    }\n",
              "</style>\n",
              "<table border=\"1\" class=\"dataframe\">\n",
              "  <thead>\n",
              "    <tr style=\"text-align: right;\">\n",
              "      <th></th>\n",
              "      <th>Month</th>\n",
              "      <th>MilesMM</th>\n",
              "    </tr>\n",
              "  </thead>\n",
              "  <tbody>\n",
              "    <tr>\n",
              "      <th>0</th>\n",
              "      <td>1963-01-01</td>\n",
              "      <td>6827</td>\n",
              "    </tr>\n",
              "    <tr>\n",
              "      <th>1</th>\n",
              "      <td>1963-02-01</td>\n",
              "      <td>6178</td>\n",
              "    </tr>\n",
              "    <tr>\n",
              "      <th>2</th>\n",
              "      <td>1963-03-01</td>\n",
              "      <td>7084</td>\n",
              "    </tr>\n",
              "    <tr>\n",
              "      <th>3</th>\n",
              "      <td>1963-04-01</td>\n",
              "      <td>8162</td>\n",
              "    </tr>\n",
              "    <tr>\n",
              "      <th>4</th>\n",
              "      <td>1963-05-01</td>\n",
              "      <td>8462</td>\n",
              "    </tr>\n",
              "  </tbody>\n",
              "</table>\n",
              "</div>"
            ],
            "text/plain": [
              "       Month  MilesMM\n",
              "0 1963-01-01     6827\n",
              "1 1963-02-01     6178\n",
              "2 1963-03-01     7084\n",
              "3 1963-04-01     8162\n",
              "4 1963-05-01     8462"
            ]
          },
          "metadata": {
            "tags": []
          },
          "execution_count": 8
        }
      ]
    },
    {
      "cell_type": "code",
      "metadata": {
        "colab": {
          "base_uri": "https://localhost:8080/",
          "height": 235
        },
        "id": "jiX2QkPtwR_d",
        "outputId": "af7b41f0-2328-438d-cc0d-15fdf2786712"
      },
      "source": [
        "quarterly_myles = myles.resample('Q', on='Month').mean()\n",
        "\n",
        "quarterly_myles.head()"
      ],
      "execution_count": 13,
      "outputs": [
        {
          "output_type": "execute_result",
          "data": {
            "text/html": [
              "<div>\n",
              "<style scoped>\n",
              "    .dataframe tbody tr th:only-of-type {\n",
              "        vertical-align: middle;\n",
              "    }\n",
              "\n",
              "    .dataframe tbody tr th {\n",
              "        vertical-align: top;\n",
              "    }\n",
              "\n",
              "    .dataframe thead th {\n",
              "        text-align: right;\n",
              "    }\n",
              "</style>\n",
              "<table border=\"1\" class=\"dataframe\">\n",
              "  <thead>\n",
              "    <tr style=\"text-align: right;\">\n",
              "      <th></th>\n",
              "      <th>MilesMM</th>\n",
              "    </tr>\n",
              "    <tr>\n",
              "      <th>Month</th>\n",
              "      <th></th>\n",
              "    </tr>\n",
              "  </thead>\n",
              "  <tbody>\n",
              "    <tr>\n",
              "      <th>1963-03-31</th>\n",
              "      <td>6696.333333</td>\n",
              "    </tr>\n",
              "    <tr>\n",
              "      <th>1963-06-30</th>\n",
              "      <td>8756.000000</td>\n",
              "    </tr>\n",
              "    <tr>\n",
              "      <th>1963-09-30</th>\n",
              "      <td>10392.333333</td>\n",
              "    </tr>\n",
              "    <tr>\n",
              "      <th>1963-12-31</th>\n",
              "      <td>7356.333333</td>\n",
              "    </tr>\n",
              "    <tr>\n",
              "      <th>1964-03-31</th>\n",
              "      <td>7287.666667</td>\n",
              "    </tr>\n",
              "  </tbody>\n",
              "</table>\n",
              "</div>"
            ],
            "text/plain": [
              "                 MilesMM\n",
              "Month                   \n",
              "1963-03-31   6696.333333\n",
              "1963-06-30   8756.000000\n",
              "1963-09-30  10392.333333\n",
              "1963-12-31   7356.333333\n",
              "1964-03-31   7287.666667"
            ]
          },
          "metadata": {
            "tags": []
          },
          "execution_count": 13
        }
      ]
    },
    {
      "cell_type": "code",
      "metadata": {
        "colab": {
          "base_uri": "https://localhost:8080/",
          "height": 235
        },
        "id": "QerIs2uZxXRF",
        "outputId": "a371d990-1a12-48b0-d25a-f425c2d77efb"
      },
      "source": [
        "yearly_miles = myles.resample('A',on='Month').sum()\n",
        "yearly_miles.head()"
      ],
      "execution_count": 15,
      "outputs": [
        {
          "output_type": "execute_result",
          "data": {
            "text/html": [
              "<div>\n",
              "<style scoped>\n",
              "    .dataframe tbody tr th:only-of-type {\n",
              "        vertical-align: middle;\n",
              "    }\n",
              "\n",
              "    .dataframe tbody tr th {\n",
              "        vertical-align: top;\n",
              "    }\n",
              "\n",
              "    .dataframe thead th {\n",
              "        text-align: right;\n",
              "    }\n",
              "</style>\n",
              "<table border=\"1\" class=\"dataframe\">\n",
              "  <thead>\n",
              "    <tr style=\"text-align: right;\">\n",
              "      <th></th>\n",
              "      <th>MilesMM</th>\n",
              "    </tr>\n",
              "    <tr>\n",
              "      <th>Month</th>\n",
              "      <th></th>\n",
              "    </tr>\n",
              "  </thead>\n",
              "  <tbody>\n",
              "    <tr>\n",
              "      <th>1963-12-31</th>\n",
              "      <td>99603</td>\n",
              "    </tr>\n",
              "    <tr>\n",
              "      <th>1964-12-31</th>\n",
              "      <td>106192</td>\n",
              "    </tr>\n",
              "    <tr>\n",
              "      <th>1965-12-31</th>\n",
              "      <td>115431</td>\n",
              "    </tr>\n",
              "    <tr>\n",
              "      <th>1966-12-31</th>\n",
              "      <td>119154</td>\n",
              "    </tr>\n",
              "    <tr>\n",
              "      <th>1967-12-31</th>\n",
              "      <td>126515</td>\n",
              "    </tr>\n",
              "  </tbody>\n",
              "</table>\n",
              "</div>"
            ],
            "text/plain": [
              "            MilesMM\n",
              "Month              \n",
              "1963-12-31    99603\n",
              "1964-12-31   106192\n",
              "1965-12-31   115431\n",
              "1966-12-31   119154\n",
              "1967-12-31   126515"
            ]
          },
          "metadata": {
            "tags": []
          },
          "execution_count": 15
        }
      ]
    },
    {
      "cell_type": "code",
      "metadata": {
        "colab": {
          "base_uri": "https://localhost:8080/",
          "height": 1000
        },
        "id": "HoqyxXs6y4df",
        "outputId": "8236f120-141e-4a34-9d50-c0764c643c06"
      },
      "source": [
        "upsampĺedmiles = myles.resample('D',on='Month').mean()\n",
        "upsampĺedmiles.head(30)"
      ],
      "execution_count": 18,
      "outputs": [
        {
          "output_type": "execute_result",
          "data": {
            "text/html": [
              "<div>\n",
              "<style scoped>\n",
              "    .dataframe tbody tr th:only-of-type {\n",
              "        vertical-align: middle;\n",
              "    }\n",
              "\n",
              "    .dataframe tbody tr th {\n",
              "        vertical-align: top;\n",
              "    }\n",
              "\n",
              "    .dataframe thead th {\n",
              "        text-align: right;\n",
              "    }\n",
              "</style>\n",
              "<table border=\"1\" class=\"dataframe\">\n",
              "  <thead>\n",
              "    <tr style=\"text-align: right;\">\n",
              "      <th></th>\n",
              "      <th>MilesMM</th>\n",
              "    </tr>\n",
              "    <tr>\n",
              "      <th>Month</th>\n",
              "      <th></th>\n",
              "    </tr>\n",
              "  </thead>\n",
              "  <tbody>\n",
              "    <tr>\n",
              "      <th>1963-01-01</th>\n",
              "      <td>6827.0</td>\n",
              "    </tr>\n",
              "    <tr>\n",
              "      <th>1963-01-02</th>\n",
              "      <td>NaN</td>\n",
              "    </tr>\n",
              "    <tr>\n",
              "      <th>1963-01-03</th>\n",
              "      <td>NaN</td>\n",
              "    </tr>\n",
              "    <tr>\n",
              "      <th>1963-01-04</th>\n",
              "      <td>NaN</td>\n",
              "    </tr>\n",
              "    <tr>\n",
              "      <th>1963-01-05</th>\n",
              "      <td>NaN</td>\n",
              "    </tr>\n",
              "    <tr>\n",
              "      <th>1963-01-06</th>\n",
              "      <td>NaN</td>\n",
              "    </tr>\n",
              "    <tr>\n",
              "      <th>1963-01-07</th>\n",
              "      <td>NaN</td>\n",
              "    </tr>\n",
              "    <tr>\n",
              "      <th>1963-01-08</th>\n",
              "      <td>NaN</td>\n",
              "    </tr>\n",
              "    <tr>\n",
              "      <th>1963-01-09</th>\n",
              "      <td>NaN</td>\n",
              "    </tr>\n",
              "    <tr>\n",
              "      <th>1963-01-10</th>\n",
              "      <td>NaN</td>\n",
              "    </tr>\n",
              "    <tr>\n",
              "      <th>1963-01-11</th>\n",
              "      <td>NaN</td>\n",
              "    </tr>\n",
              "    <tr>\n",
              "      <th>1963-01-12</th>\n",
              "      <td>NaN</td>\n",
              "    </tr>\n",
              "    <tr>\n",
              "      <th>1963-01-13</th>\n",
              "      <td>NaN</td>\n",
              "    </tr>\n",
              "    <tr>\n",
              "      <th>1963-01-14</th>\n",
              "      <td>NaN</td>\n",
              "    </tr>\n",
              "    <tr>\n",
              "      <th>1963-01-15</th>\n",
              "      <td>NaN</td>\n",
              "    </tr>\n",
              "    <tr>\n",
              "      <th>1963-01-16</th>\n",
              "      <td>NaN</td>\n",
              "    </tr>\n",
              "    <tr>\n",
              "      <th>1963-01-17</th>\n",
              "      <td>NaN</td>\n",
              "    </tr>\n",
              "    <tr>\n",
              "      <th>1963-01-18</th>\n",
              "      <td>NaN</td>\n",
              "    </tr>\n",
              "    <tr>\n",
              "      <th>1963-01-19</th>\n",
              "      <td>NaN</td>\n",
              "    </tr>\n",
              "    <tr>\n",
              "      <th>1963-01-20</th>\n",
              "      <td>NaN</td>\n",
              "    </tr>\n",
              "    <tr>\n",
              "      <th>1963-01-21</th>\n",
              "      <td>NaN</td>\n",
              "    </tr>\n",
              "    <tr>\n",
              "      <th>1963-01-22</th>\n",
              "      <td>NaN</td>\n",
              "    </tr>\n",
              "    <tr>\n",
              "      <th>1963-01-23</th>\n",
              "      <td>NaN</td>\n",
              "    </tr>\n",
              "    <tr>\n",
              "      <th>1963-01-24</th>\n",
              "      <td>NaN</td>\n",
              "    </tr>\n",
              "    <tr>\n",
              "      <th>1963-01-25</th>\n",
              "      <td>NaN</td>\n",
              "    </tr>\n",
              "    <tr>\n",
              "      <th>1963-01-26</th>\n",
              "      <td>NaN</td>\n",
              "    </tr>\n",
              "    <tr>\n",
              "      <th>1963-01-27</th>\n",
              "      <td>NaN</td>\n",
              "    </tr>\n",
              "    <tr>\n",
              "      <th>1963-01-28</th>\n",
              "      <td>NaN</td>\n",
              "    </tr>\n",
              "    <tr>\n",
              "      <th>1963-01-29</th>\n",
              "      <td>NaN</td>\n",
              "    </tr>\n",
              "    <tr>\n",
              "      <th>1963-01-30</th>\n",
              "      <td>NaN</td>\n",
              "    </tr>\n",
              "  </tbody>\n",
              "</table>\n",
              "</div>"
            ],
            "text/plain": [
              "            MilesMM\n",
              "Month              \n",
              "1963-01-01   6827.0\n",
              "1963-01-02      NaN\n",
              "1963-01-03      NaN\n",
              "1963-01-04      NaN\n",
              "1963-01-05      NaN\n",
              "1963-01-06      NaN\n",
              "1963-01-07      NaN\n",
              "1963-01-08      NaN\n",
              "1963-01-09      NaN\n",
              "1963-01-10      NaN\n",
              "1963-01-11      NaN\n",
              "1963-01-12      NaN\n",
              "1963-01-13      NaN\n",
              "1963-01-14      NaN\n",
              "1963-01-15      NaN\n",
              "1963-01-16      NaN\n",
              "1963-01-17      NaN\n",
              "1963-01-18      NaN\n",
              "1963-01-19      NaN\n",
              "1963-01-20      NaN\n",
              "1963-01-21      NaN\n",
              "1963-01-22      NaN\n",
              "1963-01-23      NaN\n",
              "1963-01-24      NaN\n",
              "1963-01-25      NaN\n",
              "1963-01-26      NaN\n",
              "1963-01-27      NaN\n",
              "1963-01-28      NaN\n",
              "1963-01-29      NaN\n",
              "1963-01-30      NaN"
            ]
          },
          "metadata": {
            "tags": []
          },
          "execution_count": 18
        }
      ]
    },
    {
      "cell_type": "code",
      "metadata": {
        "colab": {
          "base_uri": "https://localhost:8080/",
          "height": 297
        },
        "id": "BkzaAU88zt8u",
        "outputId": "8292350d-66ab-4920-bf2b-78752451bdcb"
      },
      "source": [
        "interpolated_myles = upsampĺedmiles.interpolate(method=\"linear\")\n",
        "\n",
        "interpolated_myles.plot()"
      ],
      "execution_count": 22,
      "outputs": [
        {
          "output_type": "execute_result",
          "data": {
            "text/plain": [
              "<matplotlib.axes._subplots.AxesSubplot at 0x7fce81b59c50>"
            ]
          },
          "metadata": {
            "tags": []
          },
          "execution_count": 22
        },
        {
          "output_type": "display_data",
          "data": {
            "image/png": "[encoded data removed]",
            "text/plain": [
              "<Figure size 432x288 with 1 Axes>"
            ]
          },
          "metadata": {
            "tags": [],
            "needs_background": "light"
          }
        }
      ]
    },
    {
      "cell_type": "code",
      "metadata": {
        "colab": {
          "base_uri": "https://localhost:8080/",
          "height": 1000
        },
        "id": "Cjey0yl80NNu",
        "outputId": "c210e2dc-6bcf-4e9a-826a-7285af605efc"
      },
      "source": [
        "interpolated_myles.head(32)"
      ],
      "execution_count": 23,
      "outputs": [
        {
          "output_type": "execute_result",
          "data": {
            "text/html": [
              "<div>\n",
              "<style scoped>\n",
              "    .dataframe tbody tr th:only-of-type {\n",
              "        vertical-align: middle;\n",
              "    }\n",
              "\n",
              "    .dataframe tbody tr th {\n",
              "        vertical-align: top;\n",
              "    }\n",
              "\n",
              "    .dataframe thead th {\n",
              "        text-align: right;\n",
              "    }\n",
              "</style>\n",
              "<table border=\"1\" class=\"dataframe\">\n",
              "  <thead>\n",
              "    <tr style=\"text-align: right;\">\n",
              "      <th></th>\n",
              "      <th>MilesMM</th>\n",
              "    </tr>\n",
              "    <tr>\n",
              "      <th>Month</th>\n",
              "      <th></th>\n",
              "    </tr>\n",
              "  </thead>\n",
              "  <tbody>\n",
              "    <tr>\n",
              "      <th>1963-01-01</th>\n",
              "      <td>6827.000000</td>\n",
              "    </tr>\n",
              "    <tr>\n",
              "      <th>1963-01-02</th>\n",
              "      <td>6806.064516</td>\n",
              "    </tr>\n",
              "    <tr>\n",
              "      <th>1963-01-03</th>\n",
              "      <td>6785.129032</td>\n",
              "    </tr>\n",
              "    <tr>\n",
              "      <th>1963-01-04</th>\n",
              "      <td>6764.193548</td>\n",
              "    </tr>\n",
              "    <tr>\n",
              "      <th>1963-01-05</th>\n",
              "      <td>6743.258065</td>\n",
              "    </tr>\n",
              "    <tr>\n",
              "      <th>1963-01-06</th>\n",
              "      <td>6722.322581</td>\n",
              "    </tr>\n",
              "    <tr>\n",
              "      <th>1963-01-07</th>\n",
              "      <td>6701.387097</td>\n",
              "    </tr>\n",
              "    <tr>\n",
              "      <th>1963-01-08</th>\n",
              "      <td>6680.451613</td>\n",
              "    </tr>\n",
              "    <tr>\n",
              "      <th>1963-01-09</th>\n",
              "      <td>6659.516129</td>\n",
              "    </tr>\n",
              "    <tr>\n",
              "      <th>1963-01-10</th>\n",
              "      <td>6638.580645</td>\n",
              "    </tr>\n",
              "    <tr>\n",
              "      <th>1963-01-11</th>\n",
              "      <td>6617.645161</td>\n",
              "    </tr>\n",
              "    <tr>\n",
              "      <th>1963-01-12</th>\n",
              "      <td>6596.709677</td>\n",
              "    </tr>\n",
              "    <tr>\n",
              "      <th>1963-01-13</th>\n",
              "      <td>6575.774194</td>\n",
              "    </tr>\n",
              "    <tr>\n",
              "      <th>1963-01-14</th>\n",
              "      <td>6554.838710</td>\n",
              "    </tr>\n",
              "    <tr>\n",
              "      <th>1963-01-15</th>\n",
              "      <td>6533.903226</td>\n",
              "    </tr>\n",
              "    <tr>\n",
              "      <th>1963-01-16</th>\n",
              "      <td>6512.967742</td>\n",
              "    </tr>\n",
              "    <tr>\n",
              "      <th>1963-01-17</th>\n",
              "      <td>6492.032258</td>\n",
              "    </tr>\n",
              "    <tr>\n",
              "      <th>1963-01-18</th>\n",
              "      <td>6471.096774</td>\n",
              "    </tr>\n",
              "    <tr>\n",
              "      <th>1963-01-19</th>\n",
              "      <td>6450.161290</td>\n",
              "    </tr>\n",
              "    <tr>\n",
              "      <th>1963-01-20</th>\n",
              "      <td>6429.225806</td>\n",
              "    </tr>\n",
              "    <tr>\n",
              "      <th>1963-01-21</th>\n",
              "      <td>6408.290323</td>\n",
              "    </tr>\n",
              "    <tr>\n",
              "      <th>1963-01-22</th>\n",
              "      <td>6387.354839</td>\n",
              "    </tr>\n",
              "    <tr>\n",
              "      <th>1963-01-23</th>\n",
              "      <td>6366.419355</td>\n",
              "    </tr>\n",
              "    <tr>\n",
              "      <th>1963-01-24</th>\n",
              "      <td>6345.483871</td>\n",
              "    </tr>\n",
              "    <tr>\n",
              "      <th>1963-01-25</th>\n",
              "      <td>6324.548387</td>\n",
              "    </tr>\n",
              "    <tr>\n",
              "      <th>1963-01-26</th>\n",
              "      <td>6303.612903</td>\n",
              "    </tr>\n",
              "    <tr>\n",
              "      <th>1963-01-27</th>\n",
              "      <td>6282.677419</td>\n",
              "    </tr>\n",
              "    <tr>\n",
              "      <th>1963-01-28</th>\n",
              "      <td>6261.741935</td>\n",
              "    </tr>\n",
              "    <tr>\n",
              "      <th>1963-01-29</th>\n",
              "      <td>6240.806452</td>\n",
              "    </tr>\n",
              "    <tr>\n",
              "      <th>1963-01-30</th>\n",
              "      <td>6219.870968</td>\n",
              "    </tr>\n",
              "    <tr>\n",
              "      <th>1963-01-31</th>\n",
              "      <td>6198.935484</td>\n",
              "    </tr>\n",
              "    <tr>\n",
              "      <th>1963-02-01</th>\n",
              "      <td>6178.000000</td>\n",
              "    </tr>\n",
              "  </tbody>\n",
              "</table>\n",
              "</div>"
            ],
            "text/plain": [
              "                MilesMM\n",
              "Month                  \n",
              "1963-01-01  6827.000000\n",
              "1963-01-02  6806.064516\n",
              "1963-01-03  6785.129032\n",
              "1963-01-04  6764.193548\n",
              "1963-01-05  6743.258065\n",
              "1963-01-06  6722.322581\n",
              "1963-01-07  6701.387097\n",
              "1963-01-08  6680.451613\n",
              "1963-01-09  6659.516129\n",
              "1963-01-10  6638.580645\n",
              "1963-01-11  6617.645161\n",
              "1963-01-12  6596.709677\n",
              "1963-01-13  6575.774194\n",
              "1963-01-14  6554.838710\n",
              "1963-01-15  6533.903226\n",
              "1963-01-16  6512.967742\n",
              "1963-01-17  6492.032258\n",
              "1963-01-18  6471.096774\n",
              "1963-01-19  6450.161290\n",
              "1963-01-20  6429.225806\n",
              "1963-01-21  6408.290323\n",
              "1963-01-22  6387.354839\n",
              "1963-01-23  6366.419355\n",
              "1963-01-24  6345.483871\n",
              "1963-01-25  6324.548387\n",
              "1963-01-26  6303.612903\n",
              "1963-01-27  6282.677419\n",
              "1963-01-28  6261.741935\n",
              "1963-01-29  6240.806452\n",
              "1963-01-30  6219.870968\n",
              "1963-01-31  6198.935484\n",
              "1963-02-01  6178.000000"
            ]
          },
          "metadata": {
            "tags": []
          },
          "execution_count": 23
        }
      ]
    },
    {
      "cell_type": "code",
      "metadata": {
        "colab": {
          "base_uri": "https://localhost:8080/",
          "height": 297
        },
        "id": "SDwgKW8Y06K-",
        "outputId": "5e68c65a-81bd-43da-f80f-be0d1863ac3e"
      },
      "source": [
        "polinterpolated = upsampĺedmiles.interpolate(method=\"spline\", order=2)\n",
        "polinterpolated.plot()"
      ],
      "execution_count": 28,
      "outputs": [
        {
          "output_type": "execute_result",
          "data": {
            "text/plain": [
              "<matplotlib.axes._subplots.AxesSubplot at 0x7fce7bb65860>"
            ]
          },
          "metadata": {
            "tags": []
          },
          "execution_count": 28
        },
        {
          "output_type": "display_data",
          "data": {
            "image/png": "[encoded data removed]",
            "text/plain": [
              "<Figure size 432x288 with 1 Axes>"
            ]
          },
          "metadata": {
            "tags": [],
            "needs_background": "light"
          }
        }
      ]
    }
  ]
}